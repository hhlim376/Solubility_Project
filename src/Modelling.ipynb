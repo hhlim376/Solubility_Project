{
 "cells": [
  {
   "cell_type": "code",
   "execution_count": 1,
   "id": "8587b367-2868-494d-9e3b-7c0ae6ca73ea",
   "metadata": {},
   "outputs": [],
   "source": [
    "import numpy as np\n",
    "import pandas as pd\n",
    "import math"
   ]
  },
  {
   "cell_type": "code",
   "execution_count": 3,
   "id": "c6a12758-aaa3-4bf9-865a-8a7d9d4f5feb",
   "metadata": {},
   "outputs": [],
   "source": [
    "from sklearn.linear_model import LinearRegression\n",
    "from sklearn.ensemble import RandomForestRegressor, ExtraTreesRegressor\n",
    "from xgboost import XGBRegressor\n",
    "from sklearn.model_selection import train_test_split\n",
    "from sklearn.preprocessing import StandardScaler\n",
    "from sklearn.decomposition import PCA\n",
    "from sklearn.metrics import r2_score, mean_squared_error, mean_absolute_error\n",
    "from sklearn.model_selection import GridSearchCV"
   ]
  },
  {
   "cell_type": "code",
   "execution_count": 5,
   "id": "7724e1fa-20b7-49da-85cc-7f87ebfa9467",
   "metadata": {},
   "outputs": [],
   "source": [
    "df = pd.read_csv('data_combined.csv')\n",
    "df_f = pd.read_csv('features2.csv')"
   ]
  },
  {
   "cell_type": "code",
   "execution_count": 6,
   "id": "25aab171-bbc9-4d2a-9f02-890a01f66366",
   "metadata": {},
   "outputs": [
    {
     "data": {
      "text/html": [
       "<div>\n",
       "<style scoped>\n",
       "    .dataframe tbody tr th:only-of-type {\n",
       "        vertical-align: middle;\n",
       "    }\n",
       "\n",
       "    .dataframe tbody tr th {\n",
       "        vertical-align: top;\n",
       "    }\n",
       "\n",
       "    .dataframe thead th {\n",
       "        text-align: right;\n",
       "    }\n",
       "</style>\n",
       "<table border=\"1\" class=\"dataframe\">\n",
       "  <thead>\n",
       "    <tr style=\"text-align: right;\">\n",
       "      <th></th>\n",
       "      <th>solubility</th>\n",
       "      <th>SMILES</th>\n",
       "    </tr>\n",
       "  </thead>\n",
       "  <tbody>\n",
       "    <tr>\n",
       "      <th>0</th>\n",
       "      <td>-2.1800</td>\n",
       "      <td>ClCC(Cl)(Cl)Cl</td>\n",
       "    </tr>\n",
       "    <tr>\n",
       "      <th>1</th>\n",
       "      <td>-2.0000</td>\n",
       "      <td>CC(Cl)(Cl)Cl</td>\n",
       "    </tr>\n",
       "    <tr>\n",
       "      <th>2</th>\n",
       "      <td>-1.7400</td>\n",
       "      <td>ClC(Cl)C(Cl)Cl</td>\n",
       "    </tr>\n",
       "    <tr>\n",
       "      <th>3</th>\n",
       "      <td>-1.4800</td>\n",
       "      <td>ClCC(Cl)Cl</td>\n",
       "    </tr>\n",
       "    <tr>\n",
       "      <th>4</th>\n",
       "      <td>-3.0400</td>\n",
       "      <td>FC(F)(Cl)C(F)(Cl)Cl</td>\n",
       "    </tr>\n",
       "    <tr>\n",
       "      <th>...</th>\n",
       "      <td>...</td>\n",
       "      <td>...</td>\n",
       "    </tr>\n",
       "    <tr>\n",
       "      <th>4490</th>\n",
       "      <td>-3.3319</td>\n",
       "      <td>NS(=O)(=O)c1ccc(C(=O)c2ccc(CNCc3ccccc3)cc2)s1</td>\n",
       "    </tr>\n",
       "    <tr>\n",
       "      <th>4491</th>\n",
       "      <td>-2.1669</td>\n",
       "      <td>CCCCNCc1ccc(C(=O)c2ccc(S(N)(=O)=O)s2)cc1</td>\n",
       "    </tr>\n",
       "    <tr>\n",
       "      <th>4492</th>\n",
       "      <td>-1.4812</td>\n",
       "      <td>NS(=O)(=O)c1ccc(C(=O)c2ccc(CN3CCOCC3)cc2)s1</td>\n",
       "    </tr>\n",
       "    <tr>\n",
       "      <th>4493</th>\n",
       "      <td>-1.8802</td>\n",
       "      <td>CN1CCN(Cc2ccc(C(=O)c3ccc(S(N)(=O)=O)s3)cc2)CC1</td>\n",
       "    </tr>\n",
       "    <tr>\n",
       "      <th>4494</th>\n",
       "      <td>-1.0324</td>\n",
       "      <td>CCN(CC)Cc1cc(C(=O)c2ccc(S(N)(=O)=O)s2)ccc1O</td>\n",
       "    </tr>\n",
       "  </tbody>\n",
       "</table>\n",
       "<p>4495 rows × 2 columns</p>\n",
       "</div>"
      ],
      "text/plain": [
       "      solubility                                          SMILES\n",
       "0        -2.1800                                  ClCC(Cl)(Cl)Cl\n",
       "1        -2.0000                                    CC(Cl)(Cl)Cl\n",
       "2        -1.7400                                  ClC(Cl)C(Cl)Cl\n",
       "3        -1.4800                                      ClCC(Cl)Cl\n",
       "4        -3.0400                             FC(F)(Cl)C(F)(Cl)Cl\n",
       "...          ...                                             ...\n",
       "4490     -3.3319   NS(=O)(=O)c1ccc(C(=O)c2ccc(CNCc3ccccc3)cc2)s1\n",
       "4491     -2.1669        CCCCNCc1ccc(C(=O)c2ccc(S(N)(=O)=O)s2)cc1\n",
       "4492     -1.4812     NS(=O)(=O)c1ccc(C(=O)c2ccc(CN3CCOCC3)cc2)s1\n",
       "4493     -1.8802  CN1CCN(Cc2ccc(C(=O)c3ccc(S(N)(=O)=O)s3)cc2)CC1\n",
       "4494     -1.0324     CCN(CC)Cc1cc(C(=O)c2ccc(S(N)(=O)=O)s2)ccc1O\n",
       "\n",
       "[4495 rows x 2 columns]"
      ]
     },
     "execution_count": 6,
     "metadata": {},
     "output_type": "execute_result"
    }
   ],
   "source": [
    "df"
   ]
  },
  {
   "cell_type": "code",
   "execution_count": 7,
   "id": "4a64da78-501b-4b51-a2df-d283302ce20f",
   "metadata": {},
   "outputs": [
    {
     "data": {
      "text/html": [
       "<div>\n",
       "<style scoped>\n",
       "    .dataframe tbody tr th:only-of-type {\n",
       "        vertical-align: middle;\n",
       "    }\n",
       "\n",
       "    .dataframe tbody tr th {\n",
       "        vertical-align: top;\n",
       "    }\n",
       "\n",
       "    .dataframe thead th {\n",
       "        text-align: right;\n",
       "    }\n",
       "</style>\n",
       "<table border=\"1\" class=\"dataframe\">\n",
       "  <thead>\n",
       "    <tr style=\"text-align: right;\">\n",
       "      <th></th>\n",
       "      <th>MolLogP</th>\n",
       "      <th>MolWt</th>\n",
       "      <th>NumRotatableBonds</th>\n",
       "      <th>num_aromatic_atoms</th>\n",
       "      <th>num_heavy_atoms</th>\n",
       "      <th>Aromatic_Proportion</th>\n",
       "      <th>valence_electrons</th>\n",
       "      <th>num_aromatic_rings</th>\n",
       "      <th>exact_MolWt</th>\n",
       "      <th>heavyatomWt</th>\n",
       "      <th>LASA</th>\n",
       "    </tr>\n",
       "  </thead>\n",
       "  <tbody>\n",
       "    <tr>\n",
       "      <th>0</th>\n",
       "      <td>2.5954</td>\n",
       "      <td>167.850</td>\n",
       "      <td>0.0</td>\n",
       "      <td>0</td>\n",
       "      <td>6</td>\n",
       "      <td>0.000000</td>\n",
       "      <td>38</td>\n",
       "      <td>0</td>\n",
       "      <td>165.891061</td>\n",
       "      <td>165.834</td>\n",
       "      <td>56.317258</td>\n",
       "    </tr>\n",
       "    <tr>\n",
       "      <th>1</th>\n",
       "      <td>2.3765</td>\n",
       "      <td>133.405</td>\n",
       "      <td>0.0</td>\n",
       "      <td>0</td>\n",
       "      <td>5</td>\n",
       "      <td>0.000000</td>\n",
       "      <td>32</td>\n",
       "      <td>0</td>\n",
       "      <td>131.930033</td>\n",
       "      <td>130.381</td>\n",
       "      <td>46.013992</td>\n",
       "    </tr>\n",
       "    <tr>\n",
       "      <th>2</th>\n",
       "      <td>2.5938</td>\n",
       "      <td>167.850</td>\n",
       "      <td>1.0</td>\n",
       "      <td>0</td>\n",
       "      <td>6</td>\n",
       "      <td>0.000000</td>\n",
       "      <td>38</td>\n",
       "      <td>0</td>\n",
       "      <td>165.891061</td>\n",
       "      <td>165.834</td>\n",
       "      <td>56.317258</td>\n",
       "    </tr>\n",
       "    <tr>\n",
       "      <th>3</th>\n",
       "      <td>2.0289</td>\n",
       "      <td>133.405</td>\n",
       "      <td>1.0</td>\n",
       "      <td>0</td>\n",
       "      <td>5</td>\n",
       "      <td>0.000000</td>\n",
       "      <td>32</td>\n",
       "      <td>0</td>\n",
       "      <td>131.930033</td>\n",
       "      <td>130.381</td>\n",
       "      <td>46.013992</td>\n",
       "    </tr>\n",
       "    <tr>\n",
       "      <th>4</th>\n",
       "      <td>2.9189</td>\n",
       "      <td>187.375</td>\n",
       "      <td>1.0</td>\n",
       "      <td>0</td>\n",
       "      <td>8</td>\n",
       "      <td>0.000000</td>\n",
       "      <td>50</td>\n",
       "      <td>0</td>\n",
       "      <td>185.901768</td>\n",
       "      <td>187.375</td>\n",
       "      <td>58.510598</td>\n",
       "    </tr>\n",
       "    <tr>\n",
       "      <th>...</th>\n",
       "      <td>...</td>\n",
       "      <td>...</td>\n",
       "      <td>...</td>\n",
       "      <td>...</td>\n",
       "      <td>...</td>\n",
       "      <td>...</td>\n",
       "      <td>...</td>\n",
       "      <td>...</td>\n",
       "      <td>...</td>\n",
       "      <td>...</td>\n",
       "      <td>...</td>\n",
       "    </tr>\n",
       "    <tr>\n",
       "      <th>4490</th>\n",
       "      <td>2.9163</td>\n",
       "      <td>386.498</td>\n",
       "      <td>7.0</td>\n",
       "      <td>17</td>\n",
       "      <td>26</td>\n",
       "      <td>0.653846</td>\n",
       "      <td>134</td>\n",
       "      <td>3</td>\n",
       "      <td>386.075884</td>\n",
       "      <td>368.354</td>\n",
       "      <td>156.092832</td>\n",
       "    </tr>\n",
       "    <tr>\n",
       "      <th>4491</th>\n",
       "      <td>2.5162</td>\n",
       "      <td>352.481</td>\n",
       "      <td>8.0</td>\n",
       "      <td>11</td>\n",
       "      <td>23</td>\n",
       "      <td>0.478261</td>\n",
       "      <td>124</td>\n",
       "      <td>2</td>\n",
       "      <td>352.091535</td>\n",
       "      <td>332.321</td>\n",
       "      <td>140.130564</td>\n",
       "    </tr>\n",
       "    <tr>\n",
       "      <th>4492</th>\n",
       "      <td>1.4587</td>\n",
       "      <td>366.464</td>\n",
       "      <td>5.0</td>\n",
       "      <td>11</td>\n",
       "      <td>24</td>\n",
       "      <td>0.458333</td>\n",
       "      <td>128</td>\n",
       "      <td>2</td>\n",
       "      <td>366.070799</td>\n",
       "      <td>348.320</td>\n",
       "      <td>144.448250</td>\n",
       "    </tr>\n",
       "    <tr>\n",
       "      <th>4493</th>\n",
       "      <td>1.3739</td>\n",
       "      <td>379.507</td>\n",
       "      <td>5.0</td>\n",
       "      <td>11</td>\n",
       "      <td>25</td>\n",
       "      <td>0.440000</td>\n",
       "      <td>134</td>\n",
       "      <td>2</td>\n",
       "      <td>379.102434</td>\n",
       "      <td>358.339</td>\n",
       "      <td>151.459480</td>\n",
       "    </tr>\n",
       "    <tr>\n",
       "      <th>4494</th>\n",
       "      <td>2.1739</td>\n",
       "      <td>368.480</td>\n",
       "      <td>7.0</td>\n",
       "      <td>11</td>\n",
       "      <td>24</td>\n",
       "      <td>0.458333</td>\n",
       "      <td>130</td>\n",
       "      <td>2</td>\n",
       "      <td>368.086449</td>\n",
       "      <td>348.320</td>\n",
       "      <td>145.134769</td>\n",
       "    </tr>\n",
       "  </tbody>\n",
       "</table>\n",
       "<p>4495 rows × 11 columns</p>\n",
       "</div>"
      ],
      "text/plain": [
       "      MolLogP    MolWt  NumRotatableBonds  num_aromatic_atoms  \\\n",
       "0      2.5954  167.850                0.0                   0   \n",
       "1      2.3765  133.405                0.0                   0   \n",
       "2      2.5938  167.850                1.0                   0   \n",
       "3      2.0289  133.405                1.0                   0   \n",
       "4      2.9189  187.375                1.0                   0   \n",
       "...       ...      ...                ...                 ...   \n",
       "4490   2.9163  386.498                7.0                  17   \n",
       "4491   2.5162  352.481                8.0                  11   \n",
       "4492   1.4587  366.464                5.0                  11   \n",
       "4493   1.3739  379.507                5.0                  11   \n",
       "4494   2.1739  368.480                7.0                  11   \n",
       "\n",
       "      num_heavy_atoms  Aromatic_Proportion  valence_electrons  \\\n",
       "0                   6             0.000000                 38   \n",
       "1                   5             0.000000                 32   \n",
       "2                   6             0.000000                 38   \n",
       "3                   5             0.000000                 32   \n",
       "4                   8             0.000000                 50   \n",
       "...               ...                  ...                ...   \n",
       "4490               26             0.653846                134   \n",
       "4491               23             0.478261                124   \n",
       "4492               24             0.458333                128   \n",
       "4493               25             0.440000                134   \n",
       "4494               24             0.458333                130   \n",
       "\n",
       "      num_aromatic_rings  exact_MolWt  heavyatomWt        LASA  \n",
       "0                      0   165.891061      165.834   56.317258  \n",
       "1                      0   131.930033      130.381   46.013992  \n",
       "2                      0   165.891061      165.834   56.317258  \n",
       "3                      0   131.930033      130.381   46.013992  \n",
       "4                      0   185.901768      187.375   58.510598  \n",
       "...                  ...          ...          ...         ...  \n",
       "4490                   3   386.075884      368.354  156.092832  \n",
       "4491                   2   352.091535      332.321  140.130564  \n",
       "4492                   2   366.070799      348.320  144.448250  \n",
       "4493                   2   379.102434      358.339  151.459480  \n",
       "4494                   2   368.086449      348.320  145.134769  \n",
       "\n",
       "[4495 rows x 11 columns]"
      ]
     },
     "execution_count": 7,
     "metadata": {},
     "output_type": "execute_result"
    }
   ],
   "source": [
    "df_f"
   ]
  },
  {
   "cell_type": "code",
   "execution_count": 8,
   "id": "5fa100ab-cffa-41d2-b141-9a9d6d38c9fc",
   "metadata": {},
   "outputs": [],
   "source": [
    "## Set X and y variables \n",
    "X = df_f\n",
    "y = df.drop(columns = ['SMILES'])"
   ]
  },
  {
   "cell_type": "code",
   "execution_count": 9,
   "id": "d6db247c-a1a6-4363-9d84-31365c5fd39a",
   "metadata": {},
   "outputs": [],
   "source": [
    "## Train test split\n",
    "X_train, X_test, y_train, y_test = train_test_split(X, y, test_size=0.2, random_state=202)"
   ]
  },
  {
   "cell_type": "code",
   "execution_count": 10,
   "id": "eca156cf-dbce-4edb-a7bd-94bec3cf66c5",
   "metadata": {},
   "outputs": [],
   "source": [
    "## standard scaler\n",
    "scaler = StandardScaler()"
   ]
  },
  {
   "cell_type": "markdown",
   "id": "b5059401-1860-49d1-b487-4084f82fa7bb",
   "metadata": {},
   "source": [
    "## Baseline predictions"
   ]
  },
  {
   "cell_type": "code",
   "execution_count": 12,
   "id": "b2d6b244-728b-4bf5-8ca4-7eaa108bdb70",
   "metadata": {},
   "outputs": [
    {
     "data": {
      "text/plain": [
       "4495"
      ]
     },
     "execution_count": 12,
     "metadata": {},
     "output_type": "execute_result"
    }
   ],
   "source": [
    "len(y)"
   ]
  },
  {
   "cell_type": "code",
   "execution_count": 37,
   "id": "7c158e73-1e2c-4e21-bc2c-1272a4609cfd",
   "metadata": {},
   "outputs": [],
   "source": [
    "## Baseline based on mean\n",
    "y_pred_baseline_mean = [y.mean()] * len(y)"
   ]
  },
  {
   "cell_type": "code",
   "execution_count": 41,
   "id": "f90a3efe-859a-44cf-b161-7871231bb6e0",
   "metadata": {},
   "outputs": [
    {
     "name": "stdout",
     "output_type": "stream",
     "text": [
      "Baseline MAE:  1.5737798933681106\n",
      "Baseline MSE:  4.184337003741072\n",
      "Baseline RMSE:  2.045565203981792\n",
      "Baseline r2:  2.220446049250313e-16\n"
     ]
    }
   ],
   "source": [
    "mae_baseline = mean_absolute_error(y,y_pred_baseline_mean)\n",
    "mse_baseline = mean_squared_error(y,y_pred_baseline_mean)\n",
    "rmse_baseline = math.sqrt(mse_baseline)\n",
    "r2_baseline = r2_score(y,y_pred_baseline_mean)\n",
    "\n",
    "print('Baseline MAE: ', mae_baseline)\n",
    "print('Baseline MSE: ', mse_baseline)\n",
    "print('Baseline RMSE: ', rmse_baseline)\n",
    "print('Baseline r2: ', r2_baseline)"
   ]
  },
  {
   "cell_type": "code",
   "execution_count": 47,
   "id": "54132439-c13c-4394-8b16-5ead1b938fd5",
   "metadata": {},
   "outputs": [],
   "source": [
    "## Baseline from Delaney Research paper\n",
    "df_delaney = pd.read_csv('data_delaney.csv')"
   ]
  },
  {
   "cell_type": "code",
   "execution_count": 49,
   "id": "91feb4fd-0c2d-408a-9a7d-a397d748dfb4",
   "metadata": {},
   "outputs": [
    {
     "data": {
      "text/html": [
       "<div>\n",
       "<style scoped>\n",
       "    .dataframe tbody tr th:only-of-type {\n",
       "        vertical-align: middle;\n",
       "    }\n",
       "\n",
       "    .dataframe tbody tr th {\n",
       "        vertical-align: top;\n",
       "    }\n",
       "\n",
       "    .dataframe thead th {\n",
       "        text-align: right;\n",
       "    }\n",
       "</style>\n",
       "<table border=\"1\" class=\"dataframe\">\n",
       "  <thead>\n",
       "    <tr style=\"text-align: right;\">\n",
       "      <th></th>\n",
       "      <th>Compound ID</th>\n",
       "      <th>measured log(solubility:mol/L)</th>\n",
       "      <th>ESOL predicted log(solubility:mol/L)</th>\n",
       "      <th>SMILES</th>\n",
       "    </tr>\n",
       "  </thead>\n",
       "  <tbody>\n",
       "    <tr>\n",
       "      <th>0</th>\n",
       "      <td>1,1,1,2-Tetrachloroethane</td>\n",
       "      <td>-2.18</td>\n",
       "      <td>-2.794</td>\n",
       "      <td>ClCC(Cl)(Cl)Cl</td>\n",
       "    </tr>\n",
       "    <tr>\n",
       "      <th>1</th>\n",
       "      <td>1,1,1-Trichloroethane</td>\n",
       "      <td>-2.00</td>\n",
       "      <td>-2.232</td>\n",
       "      <td>CC(Cl)(Cl)Cl</td>\n",
       "    </tr>\n",
       "    <tr>\n",
       "      <th>2</th>\n",
       "      <td>1,1,2,2-Tetrachloroethane</td>\n",
       "      <td>-1.74</td>\n",
       "      <td>-2.549</td>\n",
       "      <td>ClC(Cl)C(Cl)Cl</td>\n",
       "    </tr>\n",
       "    <tr>\n",
       "      <th>3</th>\n",
       "      <td>1,1,2-Trichloroethane</td>\n",
       "      <td>-1.48</td>\n",
       "      <td>-1.961</td>\n",
       "      <td>ClCC(Cl)Cl</td>\n",
       "    </tr>\n",
       "    <tr>\n",
       "      <th>4</th>\n",
       "      <td>1,1,2-Trichlorotrifluoroethane</td>\n",
       "      <td>-3.04</td>\n",
       "      <td>-3.077</td>\n",
       "      <td>FC(F)(Cl)C(F)(Cl)Cl</td>\n",
       "    </tr>\n",
       "  </tbody>\n",
       "</table>\n",
       "</div>"
      ],
      "text/plain": [
       "                      Compound ID  measured log(solubility:mol/L)  \\\n",
       "0       1,1,1,2-Tetrachloroethane                           -2.18   \n",
       "1           1,1,1-Trichloroethane                           -2.00   \n",
       "2       1,1,2,2-Tetrachloroethane                           -1.74   \n",
       "3           1,1,2-Trichloroethane                           -1.48   \n",
       "4  1,1,2-Trichlorotrifluoroethane                           -3.04   \n",
       "\n",
       "   ESOL predicted log(solubility:mol/L)               SMILES  \n",
       "0                                -2.794       ClCC(Cl)(Cl)Cl  \n",
       "1                                -2.232         CC(Cl)(Cl)Cl  \n",
       "2                                -2.549       ClC(Cl)C(Cl)Cl  \n",
       "3                                -1.961           ClCC(Cl)Cl  \n",
       "4                                -3.077  FC(F)(Cl)C(F)(Cl)Cl  "
      ]
     },
     "execution_count": 49,
     "metadata": {},
     "output_type": "execute_result"
    }
   ],
   "source": [
    "df_delaney.head()"
   ]
  },
  {
   "cell_type": "code",
   "execution_count": 50,
   "id": "3de72be6-37a0-434c-9e03-601aede3c4c8",
   "metadata": {},
   "outputs": [],
   "source": [
    "y_delaney = df_delaney['measured log(solubility:mol/L)']\n",
    "y_pred_delaney = df_delaney['ESOL predicted log(solubility:mol/L)']"
   ]
  },
  {
   "cell_type": "code",
   "execution_count": 51,
   "id": "14755d34-33df-4c2c-819d-accdb1979da3",
   "metadata": {},
   "outputs": [
    {
     "name": "stdout",
     "output_type": "stream",
     "text": [
      "Baseline MAE:  0.6944676573426574\n",
      "Baseline MSE:  0.8217520533216783\n",
      "Baseline RMSE:  0.9065054072214233\n",
      "Baseline r2:  0.8128757557709796\n"
     ]
    }
   ],
   "source": [
    "mae_baseline = mean_absolute_error(y_delaney,y_pred_delaney)\n",
    "mse_baseline = mean_squared_error(y_delaney,y_pred_delaney)\n",
    "rmse_baseline = math.sqrt(mse_baseline)\n",
    "r2_baseline = r2_score(y_delaney,y_pred_delaney)\n",
    "\n",
    "print('Baseline MAE: ', mae_baseline)\n",
    "print('Baseline MSE: ', mse_baseline)\n",
    "print('Baseline RMSE: ', rmse_baseline)\n",
    "print('Baseline r2: ', r2_baseline)"
   ]
  },
  {
   "cell_type": "code",
   "execution_count": null,
   "id": "c73a4c70-73b9-4326-a63a-8506770f5d38",
   "metadata": {},
   "outputs": [],
   "source": []
  },
  {
   "cell_type": "code",
   "execution_count": null,
   "id": "f8725157-8215-4644-8480-df5124fbb1db",
   "metadata": {},
   "outputs": [],
   "source": []
  },
  {
   "cell_type": "markdown",
   "id": "48bbf69d-96cd-44c2-b563-c77c7e8b9473",
   "metadata": {},
   "source": [
    "## Linear Regression"
   ]
  },
  {
   "cell_type": "code",
   "execution_count": 13,
   "id": "3e67a572-70dd-40f9-a307-911f225ed6c4",
   "metadata": {},
   "outputs": [],
   "source": [
    "model_lr = LinearRegression()"
   ]
  },
  {
   "cell_type": "code",
   "execution_count": 14,
   "id": "01ed9100-b439-43b3-ae66-438a2eb14dfa",
   "metadata": {},
   "outputs": [],
   "source": [
    "## Scale data\n",
    "X_train_scaled = scaler.fit_transform(X_train)\n",
    "X_test_scaled = scaler.transform(X_test)"
   ]
  },
  {
   "cell_type": "code",
   "execution_count": 15,
   "id": "57ae24d9-4402-4f3b-b9be-a82d66c0a920",
   "metadata": {},
   "outputs": [],
   "source": [
    "# Train and test linear regression model\n",
    "model_lr.fit(X_train_scaled,y_train)\n",
    "y_pred_train = model_lr.predict(X_train_scaled)\n",
    "y_pred_test = model_lr.predict(X_test_scaled)"
   ]
  },
  {
   "cell_type": "code",
   "execution_count": 16,
   "id": "7412ddfb-33b2-4e7e-9425-223fe2b37f1f",
   "metadata": {},
   "outputs": [
    {
     "name": "stdout",
     "output_type": "stream",
     "text": [
      "The train MAE score is:  0.808686974840313\n",
      "The test MAE score is:  0.8154177510530086\n",
      "The train MSE is:  1.1390764033403933\n",
      "The test MSE is:  1.1136574512050215\n",
      "The train RMSE is:  1.0672752238014305\n",
      "The test RMSE is:  1.0552996973395858\n",
      "The train r2 score is:  0.7283247693288075\n",
      "The test r2 score is:  0.7315665007363614\n"
     ]
    }
   ],
   "source": [
    "mae_train = mean_absolute_error(y_train, y_pred_train)\n",
    "mae_test = mean_absolute_error(y_test, y_pred_test)\n",
    "\n",
    "mse_train = mean_squared_error(y_train, y_pred_train)\n",
    "mse_test = mean_squared_error(y_test, y_pred_test)\n",
    "rmse_train = math.sqrt(mse_train)\n",
    "rmse_test = math.sqrt(mse_test)\n",
    "\n",
    "r2_train = r2_score(y_train, y_pred_train)\n",
    "r2_test = r2_score(y_test, y_pred_test)\n",
    "\n",
    "print(\"The train MAE score is: \",  mae_train)\n",
    "print(\"The test MAE score is: \",  mae_test)\n",
    "\n",
    "print(\"The train MSE is: \",  mse_train)\n",
    "print(\"The test MSE is: \",  mse_test)\n",
    "print(\"The train RMSE is: \",  rmse_train)\n",
    "print(\"The test RMSE is: \",  rmse_test)\n",
    "\n",
    "\n",
    "print(\"The train r2 score is: \",  r2_train)\n",
    "print(\"The test r2 score is: \",  r2_test)"
   ]
  },
  {
   "cell_type": "markdown",
   "id": "7824b93f-9fde-4e1c-ae00-2a2bffe32677",
   "metadata": {},
   "source": [
    "## XGBoost"
   ]
  },
  {
   "cell_type": "code",
   "execution_count": 17,
   "id": "4c5c52c1-3ee4-451a-80ab-54ca8ec4104d",
   "metadata": {},
   "outputs": [],
   "source": [
    "model_xgb = XGBRegressor()"
   ]
  },
  {
   "cell_type": "code",
   "execution_count": 18,
   "id": "530d1a6f-a1e9-4321-803c-bfd7e87757c1",
   "metadata": {},
   "outputs": [],
   "source": [
    "# Train and test XGB model\n",
    "model_xgb.fit(X_train,y_train)\n",
    "y_pred_train = model_xgb.predict(X_train)\n",
    "y_pred_test = model_xgb.predict(X_test)"
   ]
  },
  {
   "cell_type": "code",
   "execution_count": 19,
   "id": "ae8d9371-fcdc-4432-9897-9ae71b58006c",
   "metadata": {},
   "outputs": [
    {
     "name": "stdout",
     "output_type": "stream",
     "text": [
      "The train MAE score is:  0.25901265574160864\n",
      "The test MAE score is:  0.5053593575387365\n",
      "The train MSE is:  0.14131368683037163\n",
      "The test MSE is:  0.5889091209613779\n",
      "The train RMSE is:  0.3759171276097587\n",
      "The test RMSE is:  0.7674041444775874\n",
      "The train r2 score is:  0.966296002310246\n",
      "The test r2 score is:  0.8580506636785988\n"
     ]
    }
   ],
   "source": [
    "mae_train = mean_absolute_error(y_train, y_pred_train)\n",
    "mae_test = mean_absolute_error(y_test, y_pred_test)\n",
    "\n",
    "mse_train = mean_squared_error(y_train, y_pred_train)\n",
    "mse_test = mean_squared_error(y_test, y_pred_test)\n",
    "rmse_train = math.sqrt(mse_train)\n",
    "rmse_test = math.sqrt(mse_test)\n",
    "\n",
    "r2_train = r2_score(y_train, y_pred_train)\n",
    "r2_test = r2_score(y_test, y_pred_test)\n",
    "\n",
    "print(\"The train MAE score is: \",  mae_train)\n",
    "print(\"The test MAE score is: \",  mae_test)\n",
    "\n",
    "print(\"The train MSE is: \",  mse_train)\n",
    "print(\"The test MSE is: \",  mse_test)\n",
    "print(\"The train RMSE is: \",  rmse_train)\n",
    "print(\"The test RMSE is: \",  rmse_test)\n",
    "\n",
    "\n",
    "print(\"The train r2 score is: \",  r2_train)\n",
    "print(\"The test r2 score is: \",  r2_test)"
   ]
  },
  {
   "cell_type": "markdown",
   "id": "4d962193-6e3f-402f-989d-b566be2896ac",
   "metadata": {},
   "source": [
    "## Random Forest"
   ]
  },
  {
   "cell_type": "code",
   "execution_count": 13,
   "id": "699bf0f1-0040-4185-92a2-73e0ef6156f7",
   "metadata": {},
   "outputs": [],
   "source": [
    "model_rfr = RandomForestRegressor()"
   ]
  },
  {
   "cell_type": "code",
   "execution_count": null,
   "id": "73ed6ea4-64b0-4ea4-9717-426621ece1aa",
   "metadata": {},
   "outputs": [],
   "source": [
    "# Train and test random forest model\n",
    "model_rfr.fit(X_train,y_train)\n",
    "y_pred_train = model_rfr.predict(X_train)\n",
    "y_pred_test = model_rfr.predict(X_test)"
   ]
  },
  {
   "cell_type": "code",
   "execution_count": 15,
   "id": "56dd543a-764f-4e63-a26e-8cf5e855e2ce",
   "metadata": {},
   "outputs": [
    {
     "name": "stdout",
     "output_type": "stream",
     "text": [
      "The train MAE score is:  0.22619660183931817\n",
      "The test MAE score is:  0.47830305418371183\n",
      "The train MSE is:  0.12063739989941574\n",
      "The test MSE is:  0.5632394350800597\n",
      "The train RMSE is:  0.3473289505633179\n",
      "The test RMSE is:  0.7504927948222153\n",
      "The train r2 score is:  0.971227396732006\n",
      "The test r2 score is:  0.8642380273052371\n"
     ]
    }
   ],
   "source": [
    "mae_train = mean_absolute_error(y_train, y_pred_train)\n",
    "mae_test = mean_absolute_error(y_test, y_pred_test)\n",
    "\n",
    "mse_train = mean_squared_error(y_train, y_pred_train)\n",
    "mse_test = mean_squared_error(y_test, y_pred_test)\n",
    "rmse_train = math.sqrt(mse_train)\n",
    "rmse_test = math.sqrt(mse_test)\n",
    "\n",
    "r2_train = r2_score(y_train, y_pred_train)\n",
    "r2_test = r2_score(y_test, y_pred_test)\n",
    "\n",
    "print(\"The train MAE score is: \",  mae_train)\n",
    "print(\"The test MAE score is: \",  mae_test)\n",
    "\n",
    "print(\"The train MSE is: \",  mse_train)\n",
    "print(\"The test MSE is: \",  mse_test)\n",
    "print(\"The train RMSE is: \",  rmse_train)\n",
    "print(\"The test RMSE is: \",  rmse_test)\n",
    "\n",
    "\n",
    "print(\"The train r2 score is: \",  r2_train)\n",
    "print(\"The test r2 score is: \",  r2_test)"
   ]
  },
  {
   "cell_type": "markdown",
   "id": "c8f259e4-5348-4a2a-ae83-79c88baeddd3",
   "metadata": {},
   "source": [
    "## Extra Trees Regressor"
   ]
  },
  {
   "cell_type": "code",
   "execution_count": 4,
   "id": "173f2776-6340-4755-852f-256d24c1cf30",
   "metadata": {},
   "outputs": [],
   "source": [
    "model_ET = ExtraTreesRegressor()"
   ]
  },
  {
   "cell_type": "code",
   "execution_count": null,
   "id": "59eaf6c0-9c7b-47a6-935c-bef38cb3bcf7",
   "metadata": {},
   "outputs": [],
   "source": [
    "model_ET.fit(X_train, y_train)\n",
    "y_pred_train = model_ET.predict(X_train)\n",
    "y_pred_test = model_ET.predict(X_test)"
   ]
  },
  {
   "cell_type": "code",
   "execution_count": 12,
   "id": "51fe764c-ad35-4665-8364-1f8da14a8e72",
   "metadata": {},
   "outputs": [
    {
     "name": "stdout",
     "output_type": "stream",
     "text": [
      "The train MAE score is:  0.09001704945298201\n",
      "The test MAE score is:  0.44152522715952924\n",
      "The train MSE is:  0.05493743542216311\n",
      "The test MSE is:  0.5677957303094437\n",
      "The train RMSE is:  0.23438736190793885\n",
      "The test RMSE is:  0.7535222162016484\n",
      "The train r2 score is:  0.9868971559791501\n",
      "The test r2 score is:  0.8631397881018102\n"
     ]
    }
   ],
   "source": [
    "mae_train = mean_absolute_error(y_train, y_pred_train)\n",
    "mae_test = mean_absolute_error(y_test, y_pred_test)\n",
    "\n",
    "mse_train = mean_squared_error(y_train, y_pred_train)\n",
    "mse_test = mean_squared_error(y_test, y_pred_test)\n",
    "rmse_train = math.sqrt(mse_train)\n",
    "rmse_test = math.sqrt(mse_test)\n",
    "\n",
    "r2_train = r2_score(y_train, y_pred_train)\n",
    "r2_test = r2_score(y_test, y_pred_test)\n",
    "\n",
    "print(\"The train MAE score is: \",  mae_train)\n",
    "print(\"The test MAE score is: \",  mae_test)\n",
    "\n",
    "print(\"The train MSE is: \",  mse_train)\n",
    "print(\"The test MSE is: \",  mse_test)\n",
    "print(\"The train RMSE is: \",  rmse_train)\n",
    "print(\"The test RMSE is: \",  rmse_test)\n",
    "\n",
    "\n",
    "print(\"The train r2 score is: \",  r2_train)\n",
    "print(\"The test r2 score is: \",  r2_test)"
   ]
  },
  {
   "cell_type": "code",
   "execution_count": null,
   "id": "da544b9d-abc4-486c-8181-d48b5cd21eec",
   "metadata": {},
   "outputs": [],
   "source": []
  }
 ],
 "metadata": {
  "kernelspec": {
   "display_name": "Python 3 (ipykernel)",
   "language": "python",
   "name": "python3"
  },
  "language_info": {
   "codemirror_mode": {
    "name": "ipython",
    "version": 3
   },
   "file_extension": ".py",
   "mimetype": "text/x-python",
   "name": "python",
   "nbconvert_exporter": "python",
   "pygments_lexer": "ipython3",
   "version": "3.9.13"
  }
 },
 "nbformat": 4,
 "nbformat_minor": 5
}
